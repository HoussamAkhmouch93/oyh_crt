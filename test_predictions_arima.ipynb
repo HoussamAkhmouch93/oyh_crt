{
 "cells": [
  {
   "cell_type": "code",
   "execution_count": 7,
   "metadata": {
    "collapsed": false
   },
   "outputs": [
    {
     "name": "stdout",
     "output_type": "stream",
     "text": [
      "On charge data\n",
      "Printing Predicted\n",
      "\n",
      "\n",
      "predicted=458.525782, expected=461.709159, day=2018-03-18 14:35:00, diff=-0.694263\n",
      "predicted=462.367726, expected=468.803004, day=2018-03-18 14:40:00, diff=-1.391810\n",
      "L'investisseur aura 1014 dollars à la fin de la période.\n",
      "Le bot aura 0 dollars à la fin de la période.\n"
     ]
    }
   ],
   "source": [
    "import numpy as np\n",
    "import pandas as pd\n",
    "import time, json\n",
    "from datetime import date\n",
    "from statsmodels.tsa.stattools import adfuller, acf, pacf\n",
    "from statsmodels.tsa.arima_model import ARIMA\n",
    "from statsmodels.tsa.seasonal import seasonal_decompose\n",
    "from sklearn.metrics import mean_squared_error\n",
    "\n",
    "\n",
    "#Les données à entrer.\n",
    "#La mise initiale en usdt\n",
    "money = 1000\n",
    "#Prix du trading.\n",
    "fees = 0.0005\n",
    "#Pair à trader (pour l'instant on ne prend que des pairs avec USDT et on considère que USDT = USD).\n",
    "pair = \"USDT_ETH\"\n",
    "#Date début en timestamp\n",
    "start = \"1483228800\"\n",
    "#Date fin en timestamp\n",
    "end = \"1521384257\"\n",
    "#Période par trading en secondes\n",
    "period = \"300\"\n",
    "\n",
    "print('On charge data')\n",
    "df = pd.read_json(\"https://poloniex.com/public?command=returnChartData&currencyPair=\"+pair+\"&start=\"+start+\"&end=\"+end+\"&period=\"+period,convert_dates=['date'])\n",
    "\n",
    "#Mettre la date en index, pandas comprend que c'est une timeseries.\n",
    "df=df.set_index('date')\n",
    "\n",
    "\n",
    "wa_data = df['weightedAverage']\n",
    "#size permet de préciser le nombre de valeurs à prédire, remplacer 2 par le nombre de valeurs\n",
    "size = int(len(wa_data) - 2)\n",
    "#On crée la liste des prix d'ouverture (changer open par close, high, low, pour les différentes prédictions).\n",
    "prices = np.array(df[\"weightedAverage\"])[size:len(wa_data)]\n",
    "\n",
    "#Ici on doit mettre la liste des prédictions\n",
    "wa_data = df['weightedAverage']\n",
    "size = int(len(wa_data) - 2)\n",
    "train, test = wa_data[0:size], wa_data[size:len(wa_data)]\n",
    "history = [x for x in train]\n",
    "predictions = list()\n",
    "\n",
    "print('Printing Predicted')\n",
    "print('\\n')\n",
    "for t in range(len(test)):\n",
    "    model = ARIMA(history, order=(2,1,1))\n",
    "    model_fit = model.fit(disp=0)\n",
    "    output = model_fit.forecast()\n",
    "    yhat = output[0]\n",
    "    predictions.append(float(yhat))\n",
    "    obs = test[t]\n",
    "    history.append(obs)\n",
    "    print('predicted=%f, expected=%f, day=%s, diff=%f' % (yhat, obs,str(test.index[t]),(yhat-obs)*100/yhat))\n",
    "\n",
    "error = mean_squared_error(test, predictions)\n",
    "predictions = np.array(predictions)\n",
    "\n",
    "#On calcul l'argent final de l'investisseur. C'est ça qu'on doit battre.\n",
    "hodl_money = money*(1-fees)*prices[-1]/prices[0]\n",
    "\n",
    "print(\"L'investisseur aura %d dollars à la fin de la période.\" % hodl_money)\n",
    "\n",
    "#On utilise les prédictions pour acheter chaque fois qu'on pense gagner plus que plus% et vendre quand on pense perdre plus que minus%.\n",
    "#C'est une méthode assez basique et on pourra faire mieux après.\n",
    "plus = 5.\n",
    "minus = 5.\n",
    "#Argent du début et est ce qu'on a vendu ou pas.\n",
    "trade_crypto = money*(1-fees)/prices[0]\n",
    "trade_money = 0\n",
    "sold = False\n",
    "for i in range(len(prices)-1):\n",
    "\tif (predictions[i+1] > (1+plus/100)*prices[i] and sold == True):\n",
    "\t\tsold = False\n",
    "\t\ttrade_crypto = trade_money*(1-fees)/prices[i]\n",
    "\t\ttrade_money = 0\n",
    "\telif (predictions[i+1] < (1-minus/100)*prices[i] and sold == False):\n",
    "\t\tsold = True\n",
    "\t\ttrade_money = trade_crypto*prices[i]*(1-fees)\n",
    "\t\ttrade_crypto = 0\n",
    "\n",
    "#argent final du trading.\n",
    "final_money = trade_money + trade_crypto*(1-fees)/prices[-1]\n",
    "\n",
    "print(\"Le bot aura %d dollars à la fin de la période.\" % final_money)\n"
   ]
  },
  {
   "cell_type": "code",
   "execution_count": 6,
   "metadata": {
    "collapsed": false
   },
   "outputs": [
    {
     "data": {
      "text/plain": [
       "[0, 1, 2, 3, 4, 5, 6, 7, 8]"
      ]
     },
     "execution_count": 6,
     "metadata": {},
     "output_type": "execute_result"
    }
   ],
   "source": [
    "list(range(len(prices)-1))"
   ]
  }
 ],
 "metadata": {
  "kernelspec": {
   "display_name": "Python 3",
   "language": "python",
   "name": "python3"
  },
  "language_info": {
   "codemirror_mode": {
    "name": "ipython",
    "version": 3
   },
   "file_extension": ".py",
   "mimetype": "text/x-python",
   "name": "python",
   "nbconvert_exporter": "python",
   "pygments_lexer": "ipython3",
   "version": "3.6.0"
  }
 },
 "nbformat": 4,
 "nbformat_minor": 2
}
